{
  "nbformat": 4,
  "nbformat_minor": 0,
  "metadata": {
    "colab": {
      "name": "DRL.ipynb",
      "version": "0.3.2",
      "provenance": [],
      "collapsed_sections": []
    },
    "kernelspec": {
      "name": "python3",
      "display_name": "Python 3"
    },
    "accelerator": "GPU"
  },
  "cells": [
    {
      "metadata": {
        "id": "9Y-lYyFP-LSJ",
        "colab_type": "text"
      },
      "cell_type": "markdown",
      "source": [
        "**Tensorpack training and testing file.**\n",
        "\n",
        "---\n",
        "\n",
        "The process of this file;\n",
        "\n",
        "\n",
        "1.   Install Packages\n",
        "2.   Link colab and Google Drive\n",
        "3.   Naviage to Drive repository\n",
        "4.   (Optional) - Clone Tensorpack repository to drive repository\n",
        "5.   Train model\n",
        "6.   Test model\n",
        "7.   View model training data on tensorboard via Ngrok\n"
      ]
    },
    {
      "metadata": {
        "id": "T8tt15AS-aJe",
        "colab_type": "text"
      },
      "cell_type": "markdown",
      "source": [
        "**Installing required packages to environment**\n",
        "\n",
        "\n",
        "---\n",
        "\n"
      ]
    },
    {
      "metadata": {
        "id": "92IoRGDrETAU",
        "colab_type": "code",
        "colab": {}
      },
      "cell_type": "code",
      "source": [
        "!pip install tf-nightly-gpu && pip install tensorpack "
      ],
      "execution_count": 0,
      "outputs": []
    },
    {
      "metadata": {
        "id": "37fElT-_-DtP",
        "colab_type": "text"
      },
      "cell_type": "markdown",
      "source": [
        "**Linking** cloab to Google Drive repository\n",
        "\n",
        "\n",
        "---\n",
        "\n"
      ]
    },
    {
      "metadata": {
        "id": "jNGephEG_Vje",
        "colab_type": "code",
        "colab": {}
      },
      "cell_type": "code",
      "source": [
        "!apt-get install -y -qq software-properties-common python-software-properties module-init-tools\n",
        "!add-apt-repository -y ppa:alessandro-strada/ppa 2>&1 > /dev/null\n",
        "!apt-get update -qq 2>&1 > /dev/null\n",
        "!apt-get -y install -qq google-drive-ocamlfuse fuse\n",
        "from google.colab import auth\n",
        "auth.authenticate_user()\n",
        "from oauth2client.client import GoogleCredentials\n",
        "creds = GoogleCredentials.get_application_default()\n",
        "import getpass\n",
        "!google-drive-ocamlfuse -headless -id={creds.client_id} -secret={creds.client_secret} < /dev/null 2>&1 | grep URL\n",
        "vcode = getpass.getpass()\n",
        "!echo {vcode} | google-drive-ocamlfuse -headless -id={creds.client_id} -secret={creds.client_secret}"
      ],
      "execution_count": 0,
      "outputs": []
    },
    {
      "metadata": {
        "id": "1bKbcdc8_24W",
        "colab_type": "code",
        "colab": {}
      },
      "cell_type": "code",
      "source": [
        "!mkdir -p drive\n",
        "!google-drive-ocamlfuse drive"
      ],
      "execution_count": 0,
      "outputs": []
    },
    {
      "metadata": {
        "id": "3rHCK4CT_xsj",
        "colab_type": "text"
      },
      "cell_type": "markdown",
      "source": [
        "**Navigate to repository on linked Google Drive**\n",
        "\n",
        "\n",
        "---\n",
        "\n",
        "\n",
        "Example folder structure;\n",
        "\n",
        "Drive -> Dissertation -> DQN_Tensorpack\n",
        "\n",
        "DQN_Tensorpack contains the files necessary to run Tensorpack DQN. 'ls' shows the contents of the current directory."
      ]
    },
    {
      "metadata": {
        "id": "KGfkGvlCs09q",
        "colab_type": "code",
        "outputId": "6574de8b-3f1c-450a-8f52-21157b1122a5",
        "colab": {
          "base_uri": "https://localhost:8080/",
          "height": 34
        }
      },
      "cell_type": "code",
      "source": [
        "cd drive/Dissertation/DQN_Tensorpack"
      ],
      "execution_count": 0,
      "outputs": [
        {
          "output_type": "stream",
          "text": [
            "/content/drive/Dissertation/DQN_Tensorpack\n"
          ],
          "name": "stdout"
        }
      ]
    },
    {
      "metadata": {
        "id": "F5ZcuWqubMlV",
        "colab_type": "code",
        "colab": {}
      },
      "cell_type": "code",
      "source": [
        "ls"
      ],
      "execution_count": 0,
      "outputs": []
    },
    {
      "metadata": {
        "id": "2ismE131amCE",
        "colab_type": "text"
      },
      "cell_type": "markdown",
      "source": [
        "**Cloning Tensorpack - if required**\n",
        "\n",
        "\n",
        "---\n",
        "\n",
        "\n",
        "\n",
        "Can clone the Tensorpack directory in this repository. Excess files are removed manually."
      ]
    },
    {
      "metadata": {
        "id": "HSFf18l0bDrP",
        "colab_type": "code",
        "colab": {}
      },
      "cell_type": "code",
      "source": [
        "!git clone https://github.com/tensorpack/tensorpack.git"
      ],
      "execution_count": 0,
      "outputs": []
    },
    {
      "metadata": {
        "id": "hMO-LS0BnoTP",
        "colab_type": "text"
      },
      "cell_type": "markdown",
      "source": [
        "**Training commands**\n",
        "\n",
        "\n",
        "---\n",
        "\n",
        "\n",
        "\n",
        "\n",
        "*   --env \n",
        "\n",
        "Environment to train in.\n",
        "* --load\n",
        "\n",
        "Directory to load model files from\n",
        "eg/ --load ./train_log/DQN-MsPacman-v0/model-XXX\n",
        "* --task\n",
        "\n",
        "Task to perform. Defaul = train.\n",
        "\n",
        "\n",
        "---\n",
        "\n",
        "\n",
        "DQN Specifc\n",
        "*   --algo\n",
        "\n",
        "Which DQN algorithm variation to use.\n",
        "*   --ep\n",
        "\n",
        "Which epoch number to start training at.\n",
        "*   --exp\n",
        "\n",
        "What exploration number to use (not required).\n",
        "\n",
        "\n",
        "---\n",
        "\n",
        "\n",
        "A3C Specific\n",
        "* --gpu\n",
        "\n",
        "List of GPU's to use.\n"
      ]
    },
    {
      "metadata": {
        "id": "GQfYMuq8Y4iC",
        "colab_type": "text"
      },
      "cell_type": "markdown",
      "source": [
        "**Example of training commands for DQN and A3C:**\n",
        "\n",
        "---\n",
        "\n"
      ]
    },
    {
      "metadata": {
        "id": "J9c4jSrVyekf",
        "colab_type": "code",
        "colab": {}
      },
      "cell_type": "code",
      "source": [
        "!python ./DQN-Train.py --env MsPacman-v0 --algo DQN --load ./train_log/DQN-MsPacman-v0/model-1500000 --ep=60 "
      ],
      "execution_count": 0,
      "outputs": []
    },
    {
      "metadata": {
        "id": "_5Rde3b_2Ha2",
        "colab_type": "code",
        "colab": {}
      },
      "cell_type": "code",
      "source": [
        "!python train-atari.py --env Boxing-v0 --gpu 0 --load ./train_log/train-atari-Boxing-v0/model-1500000 "
      ],
      "execution_count": 0,
      "outputs": []
    },
    {
      "metadata": {
        "id": "YwwNlSA2ZPiL",
        "colab_type": "text"
      },
      "cell_type": "markdown",
      "source": [
        "**Example of testing/playing commands for DQN and A3C:**\n",
        "\n",
        "---\n",
        "\n"
      ]
    },
    {
      "metadata": {
        "id": "tk0jenNeZTjO",
        "colab_type": "code",
        "colab": {}
      },
      "cell_type": "code",
      "source": [
        "!python ./DQN-Train.py --env MsPacman-v0 --algo DQN --load ./train_log/DQN-MsPacman-v0/model-1500000 --task play"
      ],
      "execution_count": 0,
      "outputs": []
    },
    {
      "metadata": {
        "id": "1xz51YS5ZTWc",
        "colab_type": "code",
        "colab": {}
      },
      "cell_type": "code",
      "source": [
        "!python train-atari.py --env Boxing-v0 --gpu 0 --load ./train_log/train-atari-Boxing-v0/model-1500000 --task play"
      ],
      "execution_count": 0,
      "outputs": []
    },
    {
      "metadata": {
        "id": "9x3VHc17ZaMt",
        "colab_type": "text"
      },
      "cell_type": "markdown",
      "source": [
        "**Ngrok Settup**\n",
        "\n",
        "\n",
        "---\n",
        "\n",
        "\n",
        "\n",
        "Used to view tensorboard locally via a tunneled connection \n",
        "\n",
        "*   Download Ngrok into directory\n",
        "*   Set log directory \n",
        "*   Create url\n",
        "*   Show url to tensorboard\n"
      ]
    },
    {
      "metadata": {
        "id": "l8n096m18Slf",
        "colab_type": "code",
        "colab": {}
      },
      "cell_type": "code",
      "source": [
        "!wget https://bin.equinox.io/c/4VmDzA7iaHb/ngrok-stable-linux-amd64.zip\n",
        "!unzip ngrok-stable-linux-amd64.zip"
      ],
      "execution_count": 0,
      "outputs": []
    },
    {
      "metadata": {
        "id": "6jvWYkk58WPv",
        "colab_type": "code",
        "colab": {}
      },
      "cell_type": "code",
      "source": [
        "LOG_DIR = 'train_log/DQN-Breakout-v0'\n",
        "get_ipython().system_raw(\n",
        "    'tensorboard --logdir {} --host 0.0.0.0 --port 6006 &'\n",
        "    .format(LOG_DIR)\n",
        ")"
      ],
      "execution_count": 0,
      "outputs": []
    },
    {
      "metadata": {
        "id": "yn_MHfDF8cHK",
        "colab_type": "code",
        "colab": {}
      },
      "cell_type": "code",
      "source": [
        "get_ipython().system_raw('./ngrok http 6006 &')"
      ],
      "execution_count": 0,
      "outputs": []
    },
    {
      "metadata": {
        "id": "POrN95428c-6",
        "colab_type": "code",
        "colab": {}
      },
      "cell_type": "code",
      "source": [
        "! curl -s http://localhost:4040/api/tunnels | python3 -c \\\n",
        "    \"import sys, json; print(json.load(sys.stdin)['tunnels'][0]['public_url'])\""
      ],
      "execution_count": 0,
      "outputs": []
    }
  ]
}